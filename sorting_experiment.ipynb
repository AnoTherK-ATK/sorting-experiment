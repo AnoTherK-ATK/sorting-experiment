{
  "nbformat": 4,
  "nbformat_minor": 0,
  "metadata": {
    "colab": {
      "provenance": []
    },
    "kernelspec": {
      "name": "python3",
      "display_name": "Python 3"
    },
    "language_info": {
      "name": "python"
    }
  },
  "cells": [
    {
      "cell_type": "code",
      "execution_count": 3,
      "metadata": {
        "colab": {
          "base_uri": "https://localhost:8080/"
        },
        "id": "3fMAtQQh6cfU",
        "outputId": "f15dd2f1-92ae-4320-d819-58780fb39c9a"
      },
      "outputs": [
        {
          "output_type": "stream",
          "name": "stdout",
          "text": [
            "Cloning into 'sorting-experiment'...\n",
            "remote: Enumerating objects: 99, done.\u001b[K\n",
            "remote: Counting objects: 100% (20/20), done.\u001b[K\n",
            "remote: Compressing objects: 100% (20/20), done.\u001b[K\n",
            "remote: Total 99 (delta 0), reused 14 (delta 0), pack-reused 79\u001b[K\n",
            "Unpacking objects: 100% (99/99), 109.60 MiB | 9.53 MiB/s, done.\n"
          ]
        }
      ],
      "source": [
        "!git clone https://github.com/AnoTherK-ATK/sorting-experiment.git"
      ]
    },
    {
      "cell_type": "code",
      "source": [
        "!cd sorting-experiment/code && g++ -g -o experiment experiment.cpp -std=c++17 -O2"
      ],
      "metadata": {
        "colab": {
          "base_uri": "https://localhost:8080/"
        },
        "id": "CZe1JDQG616U",
        "outputId": "107d178d-385e-4af6-b092-670feedbde31"
      },
      "execution_count": 27,
      "outputs": [
        {
          "output_type": "stream",
          "name": "stdout",
          "text": [
            "/bin/bash: experiment: command not found\n"
          ]
        }
      ]
    },
    {
      "cell_type": "code",
      "source": [
        "!cd sorting-experiment/code && ./experiment"
      ],
      "metadata": {
        "colab": {
          "base_uri": "https://localhost:8080/"
        },
        "id": "Fam1LgUX651F",
        "outputId": "d9cf334c-0deb-4bdf-b13b-ba38c04490b1"
      },
      "execution_count": 28,
      "outputs": [
        {
          "output_type": "stream",
          "name": "stdout",
          "text": [
            "test 1:\n",
            "quicsort\n",
            "Quicksort\t\t: 84.6596ms\n",
            "Mergesort\t\t: 238.709ms\n",
            "Heapsort\t\t: 87.4629ms\n",
            "std::sort()\t\t: 23.4866ms\n",
            "test 2:\n",
            "quicsort\n",
            "Quicksort\t\t: 86.9021ms\n",
            "Mergesort\t\t: 218.637ms\n",
            "Heapsort\t\t: 72.6711ms\n",
            "std::sort()\t\t: 25.3789ms\n",
            "test 3:\n",
            "quicsort\n",
            "Quicksort\t\t: 52.7129ms\n",
            "Mergesort\t\t: 116.349ms\n",
            "Heapsort\t\t: 60.7956ms\n",
            "std::sort()\t\t: 14.3066ms\n",
            "test 4:\n",
            "quicsort\n",
            "Quicksort\t\t: 47.7729ms\n",
            "Mergesort\t\t: 127.004ms\n",
            "Heapsort\t\t: 55.394ms\n",
            "std::sort()\t\t: 14.564ms\n",
            "test 5:\n",
            "quicsort\n",
            "Quicksort\t\t: 51.1738ms\n",
            "Mergesort\t\t: 111.482ms\n",
            "Heapsort\t\t: 64.7249ms\n",
            "std::sort()\t\t: 14.2839ms\n",
            "test 6:\n",
            "quicsort\n",
            "Quicksort\t\t: 49.5847ms\n",
            "Mergesort\t\t: 118.578ms\n",
            "Heapsort\t\t: 59.0157ms\n",
            "std::sort()\t\t: 15.7057ms\n",
            "test 7:\n",
            "quicsort\n",
            "Quicksort\t\t: 47.1398ms\n",
            "Mergesort\t\t: 113.682ms\n",
            "Heapsort\t\t: 56.6352ms\n",
            "std::sort()\t\t: 14.4467ms\n",
            "test 8:\n",
            "quicsort\n",
            "Quicksort\t\t: 47.9195ms\n",
            "Mergesort\t\t: 119.746ms\n",
            "Heapsort\t\t: 57.1724ms\n",
            "std::sort()\t\t: 15.0258ms\n",
            "test 9:\n",
            "quicsort\n",
            "Quicksort\t\t: 47.1069ms\n",
            "Mergesort\t\t: 118.658ms\n",
            "Heapsort\t\t: 62.9019ms\n",
            "std::sort()\t\t: 14.874ms\n",
            "test 10:\n",
            "quicsort\n",
            "Quicksort\t\t: 50.3173ms\n",
            "Mergesort\t\t: 114.023ms\n",
            "Heapsort\t\t: 57.3118ms\n",
            "std::sort()\t\t: 14.6453ms\n"
          ]
        }
      ]
    }
  ]
}